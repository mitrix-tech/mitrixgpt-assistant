{
 "cells": [
  {
   "cell_type": "code",
   "execution_count": 9,
   "id": "d3fc495c-2294-4468-bc68-24c7fd743ac6",
   "metadata": {},
   "outputs": [
    {
     "name": "stdin",
     "output_type": "stream",
     "text": [
      "Enter API key for OpenAI:  ········\n",
      "Enter API key for LangSmith:  ········\n"
     ]
    }
   ],
   "source": [
    "import getpass\n",
    "import os\n",
    "\n",
    "if not os.environ.get(\"OPENAI_API_KEY\"):\n",
    "    os.environ[\"OPENAI_API_KEY\"] = getpass.getpass(\"Enter API key for OpenAI: \")\n",
    "    os.environ[\"LANGSMITH_TRACING\"] = \"true\"\n",
    "    os.environ[\"LANGSMITH_API_KEY\"] = getpass.getpass(\"Enter API key for LangSmith: \")\n",
    " \n",
    "\n",
    "from langchain.chat_models import init_chat_model\n",
    "from langchain_openai import OpenAIEmbeddings\n",
    "\n",
    "embeddings = OpenAIEmbeddings(model=\"text-embedding-3-large\")\n",
    "llm = init_chat_model(\"gpt-4o-mini\", model_provider=\"openai\")"
   ]
  },
  {
   "cell_type": "code",
   "execution_count": 10,
   "id": "f43435e3-65ab-4429-8fc0-b8d5ba5aa45d",
   "metadata": {},
   "outputs": [],
   "source": [
    "from langchain_milvus import Milvus\n",
    "from pymilvus import CollectionSchema, FieldSchema, DataType \n",
    "\n",
    "VECTOR_STORE_URI = \"./milvus_example.db\"\n",
    "\n",
    "\n",
    "# Define the schema fields\n",
    "# fields = [\n",
    "#     FieldSchema(\n",
    "#         name=\"embedding\",\n",
    "#         dtype=DataType.FLOAT_VECTOR,\n",
    "#         is_primary=True,\n",
    "#         dim=1536  # or whatever dimension you are using\n",
    "#     ),\n",
    "#     FieldSchema(\n",
    "#         name=\"section\",\n",
    "#         dtype=DataType.VARCHAR,\n",
    "#         max_length=256,  # must set a max length for VARCHAR\n",
    "#         is_primary=False\n",
    "#     ),\n",
    "# ]\n",
    "\n",
    "# schema = CollectionSchema(\n",
    "#     fields=fields,\n",
    "#     # Let Milvus automatically generate IDs if needed\n",
    "#     auto_id=True,\n",
    "#     # Enable dynamic fields if you'd like to store other metadata fields\n",
    "#     # as \"dynamic\" columns. This is optional.\n",
    "#     enable_dynamic_field=True\n",
    "# )\n",
    "\n",
    "vector_store = Milvus(\n",
    "    embedding_function=embeddings,\n",
    "    connection_args={\"uri\": VECTOR_STORE_URI},\n",
    "    index_params={\"index_type\": \"FLAT\", \"metric_type\": \"COSINE\"},\n",
    "    collection_name=\"website_content\",\n",
    "    auto_id=True,\n",
    "    #collection_schema=schema,\n",
    "    #create_collection=True,\n",
    "    consistency_level=\"Strong\",\n",
    "    enable_dynamic_field=True,\n",
    "    drop_old=True,  # set to True if seeking to drop the collection with that name if it exists\n",
    ")"
   ]
  },
  {
   "cell_type": "code",
   "execution_count": 11,
   "id": "91060820-e7ba-4468-840c-78dc75c41ef0",
   "metadata": {},
   "outputs": [
    {
     "name": "stdout",
     "output_type": "stream",
     "text": [
      "['https://mitrix.biz', 'https://mitrix.biz/portfolio/online-learning-automation-platform/', 'https://mitrix.biz/portfolio/online-ticketing-platform/', 'https://mitrix.biz/portfolio/lead-generation-and-social-selling-platform/', 'https://mitrix.biz/portfolio/healthcare-medical-record-management/', 'https://mitrix.biz/contacts/', 'https://mitrix.biz/services/startup-development/', 'https://mitrix.biz/services/team-augmentation/', 'https://mitrix.biz/services/dedicated-team/', 'https://mitrix.biz/portfolio/', 'https://mitrix.biz/services/custom-web-development/', 'https://mitrix.biz/services/mobile-appication-development/', 'https://mitrix.biz/services/digital-transformation/', 'https://mitrix.biz/services/business-intelligence/', 'https://mitrix.biz/services/cloud-native-development/', 'https://mitrix.biz/services/consulting/', 'https://mitrix.biz/services/']\n"
     ]
    }
   ],
   "source": [
    "import pandas as pd\n",
    "\n",
    "df = pd.read_csv(\"../storage/output/index.csv\")\n",
    "df.fillna(\"\", inplace=True)\n",
    "web_paths = df[\"url\"].values.tolist()\n",
    "print(web_paths)"
   ]
  },
  {
   "cell_type": "code",
   "execution_count": 12,
   "id": "e8d8a897-5ed3-415e-947e-4b4b68c92b38",
   "metadata": {},
   "outputs": [
    {
     "name": "stdout",
     "output_type": "stream",
     "text": [
      "['homepage', 'portfolio', 'contacts', 'services']\n"
     ]
    }
   ],
   "source": [
    "sections = df['section'].unique().tolist()\n",
    "print(sections)"
   ]
  },
  {
   "cell_type": "code",
   "execution_count": 13,
   "id": "6d5fc2ff-97c8-4275-b845-1b7d5d219e46",
   "metadata": {},
   "outputs": [
    {
     "name": "stderr",
     "output_type": "stream",
     "text": [
      "USER_AGENT environment variable not set, consider setting it to identify your requests.\n"
     ]
    },
    {
     "name": "stdout",
     "output_type": "stream",
     "text": [
      "Total chunked documents: 162\n"
     ]
    }
   ],
   "source": [
    "import bs4\n",
    "from langchain import hub\n",
    "from langchain_community.document_loaders import WebBaseLoader\n",
    "from langchain_core.documents import Document\n",
    "from langchain_text_splitters import RecursiveCharacterTextSplitter\n",
    "from langgraph.graph import START, StateGraph\n",
    "from typing_extensions import List, TypedDict\n",
    "\n",
    "loader = WebBaseLoader(\n",
    "    web_paths=web_paths,\n",
    "    #bs_kwargs=dict(features=\"html.parser\")\n",
    "    )\n",
    "\n",
    "docs = loader.load()\n",
    "\n",
    "cleaned_docs = []\n",
    "for doc in docs:\n",
    "    soup = bs4.BeautifulSoup(doc.page_content, \"html.parser\")\n",
    "    \n",
    "    # Remove unwanted tags\n",
    "    for tag in soup([\"script\", \"style\", \"noscript\"]):\n",
    "        tag.extract()\n",
    "    \n",
    "    # Extract text\n",
    "    text = soup.get_text(separator=\" \", strip=True)\n",
    "    text = \" \".join(text.split())\n",
    "    \n",
    "    # Create a new Document with the cleaned text (preserving metadata)\n",
    "    cleaned_doc = Document(\n",
    "        page_content=text,\n",
    "        metadata=doc.metadata\n",
    "    )\n",
    "    cleaned_docs.append(cleaned_doc)\n",
    "\n",
    "text_splitter = RecursiveCharacterTextSplitter(chunk_size=1000, chunk_overlap=200, add_start_index=True)\n",
    "all_splits = text_splitter.split_documents(cleaned_docs)\n",
    "print(\"Total chunked documents:\", len(all_splits))"
   ]
  },
  {
   "cell_type": "code",
   "execution_count": null,
   "id": "6b7fe8ef-92ba-4c1e-9e71-27df8339e0a8",
   "metadata": {},
   "outputs": [],
   "source": []
  },
  {
   "cell_type": "code",
   "execution_count": 14,
   "id": "576d4ead-ad1c-4446-9d7a-baedb6a281f5",
   "metadata": {},
   "outputs": [
    {
     "name": "stdout",
     "output_type": "stream",
     "text": [
      "page_content='your workforce and customers to interact with your business anytime, anywhere. contact usPath to Digital GrowthOur digital transforma-tion processAt Mitrix, we guide businesses through every step of their digital transformation journey. Our tailored approach ensures seamless integration and lasting impact Performing an AuditAssess current systems, identify inefficiencies, and uncover digital transformation opportunities. Prioritizing TransformationsFocus on high-impact changes that align with business needs and maximize efficiency. Aligning Strategy with GoalsEnsure digital initiatives support overall business objectives for sustainable growth. Launching a Proof-of-ConceptTest solutions on a small scale to validate effectiveness before full implementation. Building Long-Term Partnershipse provide ongoing support and innovation to drive your digital transformation forward.1 / Audit2 / Prioritizing3 / Strategy4 / POC launch5 / PartnershipsStay Ahead in BusinessWhy invest in digital' metadata={'source': 'https://mitrix.biz/services/digital-transformation/', 'title': 'Digital transformation - MITRIX Technology', 'language': 'en-US', 'start_index': 1613, 'section': 'services'}\n"
     ]
    }
   ],
   "source": [
    "# TODO: implement section splitting based on source from df\n",
    "for document in all_splits:\n",
    "    # The `metadata[\"source\"]` in WebBaseLoader often is the URL\n",
    "    doc_source = document.metadata.get(\"source\", \"\")\n",
    "    \n",
    "    # Filter by URL in the DataFrame\n",
    "    filtered_df = df[df[\"url\"] == doc_source]\n",
    "    if not filtered_df.empty:\n",
    "        section_value = filtered_df.iloc[0][\"section\"]\n",
    "    else:\n",
    "        section_value = \"\"\n",
    "    \n",
    "    document.metadata[\"section\"] = section_value\n",
    "\n",
    "split = all_splits[106]\n",
    "print(split)"
   ]
  },
  {
   "cell_type": "code",
   "execution_count": 15,
   "id": "b9849f05-e5a6-461f-bfb9-7b30f6731514",
   "metadata": {},
   "outputs": [
    {
     "name": "stdout",
     "output_type": "stream",
     "text": [
      "[456485308489531392, 456485308489531393, 456485308489531394]\n"
     ]
    }
   ],
   "source": [
    "from uuid import uuid4\n",
    "# Index chunks\n",
    "#uuids = [str(uuid4()) for _ in range(len(all_splits))]\n",
    "# https://python.langchain.com/docs/tutorials/retrievers/\n",
    "\n",
    "document_ids = vector_store.add_documents(documents=all_splits)\n",
    "print(document_ids[:3])"
   ]
  },
  {
   "cell_type": "code",
   "execution_count": 16,
   "id": "f56afb7a-c35e-42a2-bd8d-ac40404d44b5",
   "metadata": {},
   "outputs": [],
   "source": [
    "# Define prompt for question-answering\n",
    "base_prompt = hub.pull(\"mitrixgpt-base\")"
   ]
  },
  {
   "cell_type": "code",
   "execution_count": 17,
   "id": "531caa26-cc14-44de-986d-59fa144bcfb8",
   "metadata": {},
   "outputs": [],
   "source": [
    "from typing import Literal\n",
    "from typing_extensions import Annotated\n",
    "\n",
    "\n",
    "class Search(TypedDict):\n",
    "    \"\"\"Search query.\"\"\"\n",
    "\n",
    "    query: Annotated[str, ..., \"Search query to run.\"]\n",
    "    section: Annotated[\n",
    "        Literal[\"homepage\", \"portfolio\", \"contacts\", \"services\"],\n",
    "        ...,\n",
    "        \"Section to query.\",\n",
    "    ]\n",
    "\n",
    "class State(TypedDict):\n",
    "    question: str\n",
    "    query: Search\n",
    "    context: List[Document]\n",
    "    answer: str\n",
    "\n",
    "\n",
    "def analyze_query(state: State):\n",
    "    structured_llm = llm.with_structured_output(Search)\n",
    "    query = structured_llm.invoke(state[\"question\"])\n",
    "    return {\"query\": query}\n",
    "\n",
    "\n",
    "def retrieve(state: State):\n",
    "    query = state[\"query\"]\n",
    "    #print(query[\"section\"])\n",
    "    retrieved_docs = vector_store.similarity_search(\n",
    "        query[\"query\"],\n",
    "        filter=lambda doc: doc.metadata.get(\"section\") == query[\"section\"], k = 3\n",
    "    )\n",
    "    return {\"context\": retrieved_docs}\n",
    "\n",
    "\n",
    "def generate(state: State):\n",
    "    docs_content = \"\\n\\n\".join(doc.page_content for doc in state[\"context\"])\n",
    "    messages = base_prompt.invoke({\"question\": state[\"question\"], \"context\": docs_content})\n",
    "    response = llm.invoke(messages)\n",
    "    return {\"answer\": response.content}\n"
   ]
  },
  {
   "cell_type": "code",
   "execution_count": 18,
   "id": "2f591573-2d84-406d-be23-333dfaf604b0",
   "metadata": {},
   "outputs": [],
   "source": [
    "# Compile application and test\n",
    "graph_builder = StateGraph(State).add_sequence([analyze_query, retrieve, generate])\n",
    "graph_builder.add_edge(START, \"analyze_query\")\n",
    "graph = graph_builder.compile()"
   ]
  },
  {
   "cell_type": "code",
   "execution_count": 19,
   "id": "f478460e-b89a-4ee4-9e65-ac962b8ed2ef",
   "metadata": {},
   "outputs": [
    {
     "data": {
      "image/png": "[encoded data removed]",
      "text/plain": [
       "<IPython.core.display.Image object>"
      ]
     },
     "metadata": {},
     "output_type": "display_data"
    }
   ],
   "source": [
    "from IPython.display import Image, display\n",
    "\n",
    "display(Image(graph.get_graph().draw_mermaid_png()))"
   ]
  },
  {
   "cell_type": "code",
   "execution_count": 20,
   "id": "f7d496ac-7bbf-4239-98cd-bc32a181e0bc",
   "metadata": {},
   "outputs": [
    {
     "name": "stdout",
     "output_type": "stream",
     "text": [
      "Context: [Document(metadata={'source': 'https://mitrix.biz/services/', 'title': 'Services - MITRIX Technology company', 'description': 'Our team offers various software development, dedicated teams and staff augmentation solutions for your needs.', 'language': 'en-US', 'start_index': 4007, 'section': 'services', 'pk': 456485308489531550}, page_content=\"looking to automate their own learning processes.choice based on factsWhy choose MitrixChoosing Mitrix Technology means partnering with a team that combines technical expertise with a strong commitment to your business goals. We adhere to a comprehensive approach that involves assessing the product idea to determine the most effective path to successful delivery. 60+ experienced developers Project managers and team leads available Project managers and team leads available The team can be scaled up or down as needed Dedicated teams engagement mode Cybersecurity and quality management policies in placeWhat our clients say Mitrix's team uses their technical expertise to drive us to the best possible solution. They’ve consistently and always completed tasks on time. It goes without saying, the quality of their code is impressive. Mike Waldron / Founder, ViaPoint case study Mitrix has managed to find people who match our requirements even for ad hoc work on an hourly basis. They’re already\"), Document(metadata={'source': 'https://mitrix.biz/portfolio/', 'title': 'Portfolio - MITRIX Technology', 'language': 'en-US', 'start_index': 800, 'section': 'portfolio', 'pk': 456485308489531467}, page_content=\"The solution enabling healthcare providers to track patient histories, monitor progress, and make informed decisions. The Mitrix team developed a solution enabling the client to access critical data from any location or device, supporting continuous analytics, and workflow improvements. Artificial IntelligenceLead generation and social selling platform A simple and effective tool for lead generation and management across multiple social media communities. Media & EntertainmentOnline ticketing platform The application that simplifies ticketing operations, improving efficiency and user experience for both vendors and customers. EducationOnline learning automation platform Learn how Mitrix Technology developed a modern and intuitive learning automation platform for Academic Gateway. Curious about the project cost? fill in the formWhat our clients say Mitrix's team uses their technical expertise to drive us to the best possible solution. They’ve consistently and always completed tasks on\"), Document(metadata={'source': 'https://mitrix.biz/services/dedicated-team/', 'title': 'Dedicated Team - MITRIX Technology', 'language': 'en-US', 'start_index': 4006, 'section': 'services', 'pk': 456485308489531459}, page_content=\"processes. What our clients say Mitrix's team uses their technical expertise to drive us to the best possible solution. They’ve consistently and always completed tasks on time. It goes without saying, the quality of their code is impressive. Mike Waldron / Founder, ViaPoint case study Mitrix has managed to find people who match our requirements even for ad hoc work on an hourly basis. They’re already knowledgeable, which cuts down the time necessary to explain how the platform should work. Their team is experienced and fully understands the app's intricacies. Christian Nielsen / CPO, uQualio case study I like the level of quality development that they provide and how dedicated they are to our project. With Mitrix as our technological partner, we’ve been able to acquire new clients and impress our investors. Andreas Neumann / COO, Use2go GmbH case study Mitrix has great experience, not only on the programming side but also business-wise. Their team was a great support in completing the\")]\n",
      "\n",
      "\n",
      "Answer: Choosing Mitrix Technology means partnering with a dedicated team that combines technical expertise with a client-focused approach to achieve your business goals. With over 60 experienced developers, the team can be customized to scale with your project needs while maintaining high standards of cybersecurity and quality management. Clients commend Mitrix for delivering top-notch solutions on time, highlighting their impressive coding quality and deep understanding of project requirements.\n"
     ]
    }
   ],
   "source": [
    "response = graph.invoke({\"question\": \"Why should I choose Mitrix?\"})\n",
    "print(f'Context: {response[\"context\"]}\\n\\n')\n",
    "print(f'Answer: {response[\"answer\"]}')"
   ]
  },
  {
   "cell_type": "code",
   "execution_count": 21,
   "id": "fe0a00f2-8e23-43eb-8d16-aa934bde622b",
   "metadata": {},
   "outputs": [
    {
     "name": "stdout",
     "output_type": "stream",
     "text": [
      "{'analyze_query': {'query': {'query': 'team expertise skills and tech stack', 'section': 'homepage'}}}\n",
      "\n",
      "----------------\n",
      "\n",
      "{'retrieve': {'context': [Document(metadata={'source': 'https://mitrix.biz/services/team-augmentation/', 'title': 'Team Augmentation - MITRIX Technology', 'language': 'en-US', 'start_index': 2398, 'section': 'services', 'pk': 456485308489531444}, page_content='career aspirations. Web developers Mobile developers DevOps engineers Designers Software testers wide tech stack listWhy choose Mitrix as a team augmentation companyMitrix works with highly-skilled candidates, so you’ll never need to worry about their expertise. You’ll be able to choose from 2-3 top candidates who best fit your needs. The specialist you hire will be ready to start working for your company in short notice. Job openings can be filled quickly, and you can trust that your new hire will efficiently complete all required tasks. Moreover, you’ll have access to leading professionals who may not be available through a general search.A Showcase of ExcellenceOur featured projectsTake a look at some of our featured projects. Each project showcases our expertise in driving digital transformation and achieving measurable results for our clients. Healthcare medical record managementProblemOur client in the US healthcare sector frequently faced significant delivery issues, including'), Document(metadata={'source': 'https://mitrix.biz/services/dedicated-team/', 'title': 'Dedicated Team - MITRIX Technology', 'language': 'en-US', 'start_index': 803, 'section': 'services', 'pk': 456485308489531455}, page_content=\"faster. Extensive experienceOur team members have years of relevant experience to contribute to your project's success. We hand-pick the right professionals based on your requirements and business domain. Open communicationOur team prioritizes transparent communication and feedback. We provide regular status reports and transparent time logging with access to our tracking system. Being on the same pageWe ensure the people you work with are friendly and share your values. We’ll keep your workflows intact, becoming a fully integrated part of your company. Flexible contract termsOur scalable approach lets you hire a dedicated development team tailored to your budget and timelines. We keep our professionals in-house, so you can scale up and down easily when needed.Explore Our projectsOur portfolioWith a track record of delivering solutions across various industries, we’ve helped over 30 businesses build or enhance their products from scratch. Explore our featured case study to see one of\"), Document(metadata={'source': 'https://mitrix.biz/services/dedicated-team/', 'title': 'Dedicated Team - MITRIX Technology', 'language': 'en-US', 'start_index': 7189, 'section': 'services', 'pk': 456485308489531463}, page_content='latest technology stack, and benefit from our vast professional experience in a variety of domains.Who is included in a dedicated development team?You choose which professionals to include in your dedicated application development process. Most teams consist of several variously-skilled experts, each with their own responsibilities: designers (UX/UI and webpage), PM, software architect, project lead, QA engineer, backend developer, database administrator, and testing expert.Ноw can I build the perfect dedicated development team?Any dedicated development team should be tech-savvy, use the “team swarming” method, understand customer needs, and be able to communicate the (business) value of technical tasks, trust each other, deliver features during the sprint, and listen to feedback.Where is the development team located?Mitrix Technology builds dedicated development teams composed of experienced software engineers in Poland, Georgia, Ukraine, and other countries.What type of services do')]}}\n",
      "\n",
      "----------------\n",
      "\n",
      "{'generate': {'answer': 'Mitrix Technology boasts a diverse team of web developers, mobile developers, DevOps engineers, designers, and software testers with expertise in various tech stacks. Our team is skilled in digital transformation, ensuring timely delivery and effective communication throughout projects. We provide tailored development teams comprised of specialized roles, including UX/UI designers, project managers, software architects, and QA engineers, to meet specific client requirements.'}}\n",
      "\n",
      "----------------\n",
      "\n"
     ]
    }
   ],
   "source": [
    "# Specisic section scope Q&A \n",
    "for step in graph.stream(\n",
    "    {\"question\": \"What's your team expertize, skills and tech stack?\"},\n",
    "    stream_mode=\"updates\",\n",
    "):\n",
    "    print(f\"{step}\\n\\n----------------\\n\")"
   ]
  },
  {
   "cell_type": "code",
   "execution_count": 22,
   "id": "2259c38f-1c08-44bd-8fc8-6dcb710effca",
   "metadata": {},
   "outputs": [
    {
     "name": "stdout",
     "output_type": "stream",
     "text": [
      "{'analyze_query': {'query': {'query': 'What is the capital city of Somalia?', 'section': 'homepage'}}}\n",
      "\n",
      "----------------\n",
      "\n",
      "{'retrieve': {'context': [Document(metadata={'source': 'https://mitrix.biz/portfolio/healthcare-medical-record-management/', 'title': 'Healthcare medical record management - MITRIX Technology', 'language': 'en-US', 'start_index': 5618, 'section': 'portfolio', 'pk': 456485308489531426}, page_content=\"in floating capital.Technologies: Winform APP Entity Framework C# Angular Azure Functions Azure Blob Storages CosmosDB Azure App Services Azure Managed Instance Ms sql Azure Service Bus Have an idea? Let's talk NameCompany nameE-mailMessageBy sending this request, you agree to oursend request ul. Bagno 2ENTRANCE E/1 FLOOR, 00-112, Warsaw, Poland +48 571 940 423 (PL) +1 (773) 790 4050 (USA) info@mitrix.io servicesWeb developmentCloud developmentDigital transformationMobile developmentBusiness intelligenceConsultingPortfolioDedicated teamTeam AugmentationStartup Developmentblog Privacy Policy Internal Reporting Procedure © 2025 MITRIX\"), Document(metadata={'source': 'https://mitrix.biz/services/startup-development/', 'title': 'Startup development - MITRIX Technology', 'language': 'en-US', 'start_index': 7987, 'section': 'services', 'pk': 456485308489531440}, page_content='the best talent.Do you provide MVP development for startups?Yes, we provide MVP startup software development and assist with product ideation, prototype creation, and MVP build-up. We can help you launch your product faster, test real market demand, and minimize risks and costs. servicesWeb developmentCloud developmentDigital transformationMobile developmentBusiness intelligenceConsultingPortfolioDedicated teamTeam AugmentationStartup Developmentblog Privacy Policy Internal Reporting Procedure © 2025 MITRIX'), Document(metadata={'source': 'https://mitrix.biz/portfolio/online-learning-automation-platform/', 'title': 'Online learning automation platform - MITRIX Technology', 'language': 'en-US', 'start_index': 1595, 'section': 'portfolio', 'pk': 456485308489531404}, page_content='software solutions to manage its online learning processes. However, these products often lack adequate technical support and don’t meet the school’s specific requirements. Besides, the client was initially uncertain about choosing a third-party video hosting service and even considered building their own platform. To address these challenges, Academic Gateway partnered with Mitrix to develop Asismo, a unified and user-friendly platform.Feature HighlightsKey implemented featuresThe solution incorporates several key features, including: Scheduling systemAdditionally, the solution includes a scheduling system that synchronizes class times. The schedule is displayed on large monitors at the school for real-time access. Supplementary course materialsThe platform also manages supplementary course materials, allowing instructors to store and organize electronic documents within specific course topics. Video hostingSeveral platforms, including YouTube, Vimeo, and White Label, were evaluated')]}}\n",
      "\n",
      "----------------\n",
      "\n",
      "{'generate': {'answer': 'I do not know the answer.'}}\n",
      "\n",
      "----------------\n",
      "\n"
     ]
    }
   ],
   "source": [
    "# Specisic section scope Q&A \n",
    "for step in graph.stream(\n",
    "    {\"question\": \"What's the capital of Somalia?\"},\n",
    "    stream_mode=\"updates\",\n",
    "):\n",
    "    print(f\"{step}\\n\\n----------------\\n\")"
   ]
  },
  {
   "cell_type": "markdown",
   "id": "86cfb4e0-f7e7-4a35-a008-17bc00fe000c",
   "metadata": {},
   "source": [
    "# Chat Logic"
   ]
  },
  {
   "cell_type": "code",
   "execution_count": 23,
   "id": "f0e7b770-6166-4883-beb8-6496d787eb46",
   "metadata": {},
   "outputs": [],
   "source": [
    "from langgraph.graph import MessagesState, StateGraph\n",
    "\n",
    "graph_builder = StateGraph(MessagesState)"
   ]
  },
  {
   "cell_type": "code",
   "execution_count": 24,
   "id": "4ed6f86d-b7f4-45fe-9a88-94291b032b26",
   "metadata": {},
   "outputs": [],
   "source": [
    "from langchain_core.messages import SystemMessage\n",
    "from langgraph.prebuilt import ToolNode\n",
    "\n",
    "from langchain_core.tools import tool\n",
    "\n",
    "\n",
    "@tool(response_format=\"content_and_artifact\")\n",
    "def retrieve(query: str):\n",
    "    \"\"\"Retrieve information related to a query.\"\"\"\n",
    "    retrieved_docs = vector_store.similarity_search(query, k=3)\n",
    "    serialized = \"\\n\\n\".join(\n",
    "        (f\"Source: {doc.metadata}\\n\" f\"Content: {doc.page_content}\")\n",
    "        for doc in retrieved_docs\n",
    "    )\n",
    "    return serialized, retrieved_docs\n",
    "\n",
    "\n",
    "# Step 1: Generate an AIMessage that may include a tool-call to be sent.\n",
    "def query_or_respond(state: MessagesState):\n",
    "    \"\"\"Generate tool call for retrieval or respond.\"\"\"\n",
    "    llm_with_tools = llm.bind_tools([retrieve])\n",
    "    response = llm_with_tools.invoke(state[\"messages\"])\n",
    "    # MessagesState appends messages to state instead of overwriting\n",
    "    return {\"messages\": [response]}\n",
    "\n",
    "\n",
    "# Step 2: Execute the retrieval.\n",
    "tools = ToolNode([retrieve])\n",
    "\n",
    "\n",
    "# Step 3: Generate a response using the retrieved content.\n",
    "def generate(state: MessagesState):\n",
    "    \"\"\"Generate answer.\"\"\"\n",
    "    # Get generated ToolMessages\n",
    "    recent_tool_messages = []\n",
    "    for message in reversed(state[\"messages\"]):\n",
    "        if message.type == \"tool\":\n",
    "            recent_tool_messages.append(message)\n",
    "        else:\n",
    "            break\n",
    "    tool_messages = recent_tool_messages[::-1]\n",
    "\n",
    "    # Format into prompt\n",
    "    docs_content = \"\\n\\n\".join(doc.content for doc in tool_messages)\n",
    "    system_message_content = (f\"{base_prompt}\"\n",
    "                             \"\\n\\n\"\n",
    "                             \"{docs_content}\")\n",
    "    conversation_messages = [\n",
    "        message\n",
    "        for message in state[\"messages\"]\n",
    "        if message.type in (\"human\", \"system\")\n",
    "        or (message.type == \"ai\" and not message.tool_calls)\n",
    "    ]\n",
    "    prompt = [SystemMessage(system_message_content)] + conversation_messages\n",
    "\n",
    "    # Run\n",
    "    response = llm.invoke(prompt)\n",
    "    return {\"messages\": [response]}"
   ]
  },
  {
   "cell_type": "code",
   "execution_count": null,
   "id": "f3ffca49-53cd-4b74-9deb-27c41223860f",
   "metadata": {},
   "outputs": [],
   "source": []
  },
  {
   "cell_type": "code",
   "execution_count": null,
   "id": "0537d32a-4135-46ce-9abb-4bbf0520e491",
   "metadata": {},
   "outputs": [],
   "source": []
  },
  {
   "cell_type": "code",
   "execution_count": 25,
   "id": "84f74011-73e9-47df-8713-e7fb3d469afe",
   "metadata": {},
   "outputs": [],
   "source": [
    "from langgraph.graph import END\n",
    "from langgraph.prebuilt import ToolNode, tools_condition\n",
    "\n",
    "graph_builder.add_node(query_or_respond)\n",
    "graph_builder.add_node(tools)\n",
    "graph_builder.add_node(generate)\n",
    "\n",
    "\n",
    "graph_builder.add_conditional_edges(\n",
    "    \"query_or_respond\",\n",
    "    tools_condition,\n",
    "    {END: END, \"tools\": \"tools\"},\n",
    ")\n",
    "graph_builder.add_edge(\"tools\", \"generate\")\n",
    "graph_builder.add_edge(\"generate\", END)\n",
    "\n",
    "graph = graph_builder.compile()"
   ]
  },
  {
   "cell_type": "code",
   "execution_count": 26,
   "id": "df93285e-c4ed-4639-b155-bc72941dde89",
   "metadata": {},
   "outputs": [
    {
     "data": {
      "image/png": "[encoded data removed]",
      "text/plain": [
       "<IPython.core.display.Image object>"
      ]
     },
     "metadata": {},
     "output_type": "display_data"
    }
   ],
   "source": [
    "from IPython.display import Image, display\n",
    "\n",
    "display(Image(graph.get_graph().draw_mermaid_png()))\n",
    "\n"
   ]
  },
  {
   "cell_type": "code",
   "execution_count": 27,
   "id": "bfcda20c-f94d-4bb3-a812-f42633ded83f",
   "metadata": {},
   "outputs": [
    {
     "name": "stdout",
     "output_type": "stream",
     "text": [
      "================================\u001b[1m Human Message \u001b[0m=================================\n",
      "\n",
      "Hello\n",
      "==================================\u001b[1m Ai Message \u001b[0m==================================\n",
      "\n",
      "Hello! How can I assist you today?\n"
     ]
    }
   ],
   "source": [
    "input_message = \"Hello\"\n",
    "\n",
    "for step in graph.stream(\n",
    "    {\"messages\": [{\"role\": \"user\", \"content\": input_message}]},\n",
    "    stream_mode=\"values\",\n",
    "):\n",
    "    step[\"messages\"][-1].pretty_print()"
   ]
  },
  {
   "cell_type": "code",
   "execution_count": 28,
   "id": "f9cd7931-0185-49d4-a96c-78251e239584",
   "metadata": {},
   "outputs": [
    {
     "name": "stdout",
     "output_type": "stream",
     "text": [
      "================================\u001b[1m Human Message \u001b[0m=================================\n",
      "\n",
      "What is the capital of China?\n",
      "==================================\u001b[1m Ai Message \u001b[0m==================================\n",
      "Tool Calls:\n",
      "  retrieve (call_6qym6UbUZCb9WMZcsRbII41W)\n",
      " Call ID: call_6qym6UbUZCb9WMZcsRbII41W\n",
      "  Args:\n",
      "    query: capital of China\n",
      "=================================\u001b[1m Tool Message \u001b[0m=================================\n",
      "Name: retrieve\n",
      "\n",
      "Source: {'source': 'https://mitrix.biz/portfolio/healthcare-medical-record-management/', 'title': 'Healthcare medical record management - MITRIX Technology', 'language': 'en-US', 'start_index': 5618, 'section': 'portfolio', 'pk': 456485308489531426}\n",
      "Content: in floating capital.Technologies: Winform APP Entity Framework C# Angular Azure Functions Azure Blob Storages CosmosDB Azure App Services Azure Managed Instance Ms sql Azure Service Bus Have an idea? Let's talk NameCompany nameE-mailMessageBy sending this request, you agree to oursend request ul. Bagno 2ENTRANCE E/1 FLOOR, 00-112, Warsaw, Poland +48 571 940 423 (PL) +1 (773) 790 4050 (USA) info@mitrix.io servicesWeb developmentCloud developmentDigital transformationMobile developmentBusiness intelligenceConsultingPortfolioDedicated teamTeam AugmentationStartup Developmentblog Privacy Policy Internal Reporting Procedure © 2025 MITRIX\n",
      "\n",
      "Source: {'source': 'https://mitrix.biz/services/cloud-native-development/', 'title': 'Cloud-native development - MITRIX Technology', 'language': 'en-US', 'start_index': 1602, 'section': 'services', 'pk': 456485308489531525}\n",
      "Content: & CI/CDAutomating the development pipeline with continuous integration/ delivery enables rapid, reliable deployment and updates, ensuring seamless cloud operations. contact usFocused on Delivering ExcellenceCloud-native approach advantagesModern development practices and cloud technologies enable businesses to achieve greater scalability, resilience, and agility. The cloud-native approach allows teams to build and deploy responsive applications that quickly adapt to market changes. Scalability & flexibilityScale your applications effortlessly, adjust resources, and ensure optimal performance during peak times without over-provisioning. Enhanced resilienceCloud-native applications are designed for fault tolerance, meaning they can recover quickly from failures. Minimize downtime and provide a better user experience. Faster time to marketWith automated deployment processes and continuous integration/continuous delivery (CI/CD) practices, teams can release updates and respond swiftly to\n",
      "\n",
      "Source: {'source': 'https://mitrix.biz/services/cloud-native-development/', 'title': 'Cloud-native development - MITRIX Technology', 'language': 'en-US', 'start_index': 798, 'section': 'services', 'pk': 456485308489531524}\n",
      "Content: automated deployments with DevOps and CI/CD pipelines, we ensure your cloud solutions are resilient and scalable.Cloud-native applicationBuilding new applications specifically designed to run in the cloud, leveraging microservices, containers, and serverless architecture.Cloud migrationHelping businesses move their existing applications and infrastructure to cloud platforms, optimizing for scalability and cost-efficiency.Microservices architectureDesigning and implementing applications as a collection of loosely coupled services, which allows independent scaling and deployment of individual components.Containerization and orchestrationUsing containers (e.g., Docker) to package applications, and tools like Kubernetes for managing and orchestrating these containers in a cloud environment.DevOps & CI/CDAutomating the development pipeline with continuous integration/ delivery enables rapid, reliable deployment and updates, ensuring seamless cloud operations. contact usFocused on\n",
      "==================================\u001b[1m Ai Message \u001b[0m==================================\n",
      "\n",
      "I do not know the answer.\n"
     ]
    }
   ],
   "source": [
    "input_message = \"What is the capital of China?\"\n",
    "\n",
    "for step in graph.stream(\n",
    "    {\"messages\": [{\"role\": \"user\", \"content\": input_message}]},\n",
    "    stream_mode=\"values\",\n",
    "):\n",
    "    step[\"messages\"][-1].pretty_print()"
   ]
  },
  {
   "cell_type": "code",
   "execution_count": 29,
   "id": "06dc7460-4bb9-465d-8298-3e925eb5cd13",
   "metadata": {},
   "outputs": [],
   "source": [
    "from langgraph.checkpoint.memory import MemorySaver\n",
    "\n",
    "memory = MemorySaver()\n",
    "graph = graph_builder.compile(checkpointer=memory)\n",
    "\n",
    "# Specify an ID for the thread\n",
    "config = {\"configurable\": {\"thread_id\": \"abc123\"}}"
   ]
  },
  {
   "cell_type": "code",
   "execution_count": 30,
   "id": "cce28f28-1d3d-44fe-9901-392fb7b7aa70",
   "metadata": {},
   "outputs": [
    {
     "name": "stdout",
     "output_type": "stream",
     "text": [
      "================================\u001b[1m Human Message \u001b[0m=================================\n",
      "\n",
      "What is Task Decomposition?\n",
      "==================================\u001b[1m Ai Message \u001b[0m==================================\n",
      "Tool Calls:\n",
      "  retrieve (call_FqGvEb8FgqVttj7ClRsSdOqE)\n",
      " Call ID: call_FqGvEb8FgqVttj7ClRsSdOqE\n",
      "  Args:\n",
      "    query: Task Decomposition\n",
      "=================================\u001b[1m Tool Message \u001b[0m=================================\n",
      "Name: retrieve\n",
      "\n",
      "Source: {'source': 'https://mitrix.biz', 'title': 'Individual Software Development solutions - MITRIX Technology company', 'description': 'Our team offers various software development, dedicated teams and staff augmentation solutions for your needs.', 'language': 'en-US', 'start_index': 4808, 'section': 'homepage', 'pk': 456485308489531398}\n",
      "Content: your vision into a user-friendly experience. DeliveryAs enthusiasts of Continuous Delivery, we act on instant feedback from our clients, keeping them informed every step of the way. DevelopmentWe turn your project idea into a complete and fully functional solution. Testing at every stageOur QA team ensures we deliver software that’s reliable and free of bugs. MaintenanceFollowing the project’s launch, we continue to support your solution with regular updates and new features.1 / Analysis2 / Design3 / Delivery4 / Development5 / Testing6 / MaintenancePeople firstOur talented teamA successful IT business is more than just a stack of technologies and solutions. While our track record of completed projects speaks for itself, our greatest asset lies in our people—their skills, expertise, and passion. Bahdan SkauronskiSenior System Analyst JTBD Context diagrams UML modelling Axure Draw.io bubble.io jetadmin.io OpenAPI Artur KuchynskiML Engineer ML/AI TensorFlow OpenAI Python PyTorch\n",
      "\n",
      "Source: {'source': 'https://mitrix.biz/services/', 'title': 'Services - MITRIX Technology company', 'description': 'Our team offers various software development, dedicated teams and staff augmentation solutions for your needs.', 'language': 'en-US', 'start_index': 5612, 'section': 'services', 'pk': 456485308489531552}\n",
      "Content: Juerg Gubler / ICT Leader, Vivatum case study Focused on Delivering ExcellenceOur approach to projectsWhen working on a project, we focus on clear communication, agile development, and client feedback. Every project is unique, and we tailor our approach to fit any specific objectives our client might have. Requirement analysisOur business analysts dive into your project needs and requirements to ensure we're on the right track. DesignWe craft a functional prototype and design the UI/UX to transform your vision into a user-friendly experience. DeliveryAs enthusiasts of Continuous Delivery, we act on instant feedback from our clients, keeping them informed every step of the way. DevelopmentWe turn your project idea into a complete and fully functional solution. Testing at every stageOur QA team ensures we deliver software that’s reliable and free of bugs. MaintenanceFollowing the project’s launch, we continue to support your solution with regular updates and new features.1 / Analysis2 /\n",
      "\n",
      "Source: {'source': 'https://mitrix.biz/services/team-augmentation/', 'title': 'Team Augmentation - MITRIX Technology', 'language': 'en-US', 'start_index': 0, 'section': 'services', 'pk': 456485308489531441}\n",
      "Content: Team Augmentation - MITRIX Technology Home Services ConsultingCloud developmentBusiness intelligenceDigital transformationMobile developmentWeb development Portfolio Dedicated Team Team augmentation Startup development Blog Contacts contact usTeam augmentationOur team augmentation services provide businesses with the flexibility to scale their development teams on demand. Whether you need specialized skills for short-term projects or long-term expertise, our developers can help accelerate your project timelines, ensuring efficient delivery. enforce your project teamTeam augmentation processOur team augmentation services allow you to scale your workforce quickly and integrate developers into your existing teams. We will assess your project needs, match you with the right talent, and ensure a smooth and efficient onboarding experience. SelectionWe carefully shortlist the most suitable developers from our in-house highly skilled IT professionals to meet your project needs. CV\n",
      "==================================\u001b[1m Ai Message \u001b[0m==================================\n",
      "\n",
      "Task decomposition is the process of breaking down a complex task or project into smaller, more manageable subtasks. This approach helps in understanding the specific requirements, estimating the effort involved, and assigning responsibilities more effectively. By managing smaller tasks individually, teams can improve focus, enhance productivity, and facilitate better tracking of progress.\n"
     ]
    }
   ],
   "source": [
    "input_message = \"What is Task Decomposition?\"\n",
    "\n",
    "for step in graph.stream(\n",
    "    {\"messages\": [{\"role\": \"user\", \"content\": input_message}]},\n",
    "    stream_mode=\"values\",\n",
    "    config=config,\n",
    "):\n",
    "    step[\"messages\"][-1].pretty_print()"
   ]
  },
  {
   "cell_type": "code",
   "execution_count": 31,
   "id": "8a24d522-ffe0-4236-8056-b67224ec9e2e",
   "metadata": {},
   "outputs": [
    {
     "name": "stdout",
     "output_type": "stream",
     "text": [
      "================================\u001b[1m Human Message \u001b[0m=================================\n",
      "\n",
      "Can you look up some common ways of doing it?\n",
      "==================================\u001b[1m Ai Message \u001b[0m==================================\n",
      "Tool Calls:\n",
      "  retrieve (call_msRp4DATMaX45V80mrjlGCs7)\n",
      " Call ID: call_msRp4DATMaX45V80mrjlGCs7\n",
      "  Args:\n",
      "    query: common methods of task decomposition\n",
      "=================================\u001b[1m Tool Message \u001b[0m=================================\n",
      "Name: retrieve\n",
      "\n",
      "Source: {'source': 'https://mitrix.biz/services/digital-transformation/', 'title': 'Digital transformation - MITRIX Technology', 'language': 'en-US', 'start_index': 813, 'section': 'services', 'pk': 456485308489531497}\n",
      "Content: automationStreamlining workflows and automating repetitive tasks to improve efficiency and reduce operational costs.Cloud migrationHelping businesses move their existing applications and infrastructure to cloud platforms, optimizing for scalability and cost-efficiency.Legacy system modernizationUpgrading outdated systems with scalable, secure, and cloud-enabled solutions to meet modern business demands.ConsultingDigital transformation requires thorough planning and a well-crafted strategy. We help businesses develop a comprehensive digital strategy to ensure a seamless and efficient transitionData-driven decision makingLeveraging advanced analytics and AI tools to help businesses make informed, data-backed decisions.Enterprise mobility solutionsDeveloping mobile-first strategies to enable your workforce and customers to interact with your business anytime, anywhere. contact usPath to Digital GrowthOur digital transforma-tion processAt Mitrix, we guide businesses through every step of\n",
      "\n",
      "Source: {'source': 'https://mitrix.biz/services/', 'title': 'Services - MITRIX Technology company', 'description': 'Our team offers various software development, dedicated teams and staff augmentation solutions for your needs.', 'language': 'en-US', 'start_index': 5612, 'section': 'services', 'pk': 456485308489531552}\n",
      "Content: Juerg Gubler / ICT Leader, Vivatum case study Focused on Delivering ExcellenceOur approach to projectsWhen working on a project, we focus on clear communication, agile development, and client feedback. Every project is unique, and we tailor our approach to fit any specific objectives our client might have. Requirement analysisOur business analysts dive into your project needs and requirements to ensure we're on the right track. DesignWe craft a functional prototype and design the UI/UX to transform your vision into a user-friendly experience. DeliveryAs enthusiasts of Continuous Delivery, we act on instant feedback from our clients, keeping them informed every step of the way. DevelopmentWe turn your project idea into a complete and fully functional solution. Testing at every stageOur QA team ensures we deliver software that’s reliable and free of bugs. MaintenanceFollowing the project’s launch, we continue to support your solution with regular updates and new features.1 / Analysis2 /\n",
      "\n",
      "Source: {'source': 'https://mitrix.biz', 'title': 'Individual Software Development solutions - MITRIX Technology company', 'description': 'Our team offers various software development, dedicated teams and staff augmentation solutions for your needs.', 'language': 'en-US', 'start_index': 4808, 'section': 'homepage', 'pk': 456485308489531398}\n",
      "Content: your vision into a user-friendly experience. DeliveryAs enthusiasts of Continuous Delivery, we act on instant feedback from our clients, keeping them informed every step of the way. DevelopmentWe turn your project idea into a complete and fully functional solution. Testing at every stageOur QA team ensures we deliver software that’s reliable and free of bugs. MaintenanceFollowing the project’s launch, we continue to support your solution with regular updates and new features.1 / Analysis2 / Design3 / Delivery4 / Development5 / Testing6 / MaintenancePeople firstOur talented teamA successful IT business is more than just a stack of technologies and solutions. While our track record of completed projects speaks for itself, our greatest asset lies in our people—their skills, expertise, and passion. Bahdan SkauronskiSenior System Analyst JTBD Context diagrams UML modelling Axure Draw.io bubble.io jetadmin.io OpenAPI Artur KuchynskiML Engineer ML/AI TensorFlow OpenAI Python PyTorch\n",
      "==================================\u001b[1m Ai Message \u001b[0m==================================\n",
      "\n",
      "Common ways to perform task decomposition include:\n",
      "\n",
      "1. **Breakdown Structure**: Using techniques like Work Breakdown Structure (WBS), which maps out all tasks hierarchically, making it easier to identify dependencies and time requirements.\n",
      "\n",
      "2. **Top-Down Approach**: Starting with the overall goal and progressively breaking it down into detailed subtasks until actionable steps are identified.\n",
      "\n",
      "3. **Bottom-Up Approach**: Identifying the smallest tasks first and gradually combining them into larger, cohesive tasks based on their relationships.\n",
      "\n",
      "4. **Use of Flowcharts**: Visual representations of tasks and their relationships can clarify the sequence of activities and highlight parallel tasks.\n",
      "\n",
      "5. **Agile Methodologies**: Approaching decomposition through iterative development, where tasks are continuously refined and prioritized based on feedback.\n",
      "\n",
      "These methods can be used alone or in combination, depending on the complexity and specific needs of the project.\n"
     ]
    }
   ],
   "source": [
    "input_message = \"Can you look up some common ways of doing it?\"\n",
    "\n",
    "for step in graph.stream(\n",
    "    {\"messages\": [{\"role\": \"user\", \"content\": input_message}]},\n",
    "    stream_mode=\"values\",\n",
    "    config=config,\n",
    "):\n",
    "    step[\"messages\"][-1].pretty_print()"
   ]
  },
  {
   "cell_type": "code",
   "execution_count": 32,
   "id": "50f88036-d16c-4fcd-b285-77d6cc51d55e",
   "metadata": {},
   "outputs": [
    {
     "data": {
      "text/plain": [
       "{'nodes': [{'id': '__start__', 'type': 'schema', 'data': '__start__'},\n",
       "  {'id': 'agent',\n",
       "   'type': 'runnable',\n",
       "   'data': {'id': ['langgraph', 'utils', 'runnable', 'RunnableCallable'],\n",
       "    'name': 'agent'}},\n",
       "  {'id': 'tools',\n",
       "   'type': 'runnable',\n",
       "   'data': {'id': ['langgraph', 'prebuilt', 'tool_node', 'ToolNode'],\n",
       "    'name': 'tools'}},\n",
       "  {'id': '__end__', 'type': 'schema', 'data': '__end__'}],\n",
       " 'edges': [{'source': '__start__', 'target': 'agent'},\n",
       "  {'source': 'tools', 'target': 'agent'},\n",
       "  {'source': 'agent', 'target': 'tools', 'conditional': True},\n",
       "  {'source': 'agent', 'target': '__end__', 'conditional': True}]}"
      ]
     },
     "execution_count": 32,
     "metadata": {},
     "output_type": "execute_result"
    }
   ],
   "source": [
    "from langgraph.prebuilt import create_react_agent\n",
    "\n",
    "agent_executor = create_react_agent(llm, [retrieve], checkpointer=memory)\n",
    "agent_executor.get_graph().to_json()"
   ]
  },
  {
   "cell_type": "code",
   "execution_count": 33,
   "id": "2c6a40b8-eac2-4502-8dce-95dac57564e8",
   "metadata": {},
   "outputs": [
    {
     "data": {
      "image/png": "[encoded data removed]",
      "text/plain": [
       "<IPython.core.display.Image object>"
      ]
     },
     "metadata": {},
     "output_type": "display_data"
    }
   ],
   "source": [
    "display(Image(agent_executor.get_graph().draw_mermaid_png()))"
   ]
  },
  {
   "cell_type": "code",
   "execution_count": 34,
   "id": "1443c84b-42cb-42db-85ed-cf4232728579",
   "metadata": {},
   "outputs": [
    {
     "name": "stdout",
     "output_type": "stream",
     "text": [
      "================================\u001b[1m Human Message \u001b[0m=================================\n",
      "\n",
      "What is the Mitrix team expertize?\n",
      "\n",
      "Once you get the answer, look up for bakcend technologies used by the team.\n",
      "==================================\u001b[1m Ai Message \u001b[0m==================================\n",
      "Tool Calls:\n",
      "  retrieve (call_71arXFP1SDESn8tNHjWKiBqJ)\n",
      " Call ID: call_71arXFP1SDESn8tNHjWKiBqJ\n",
      "  Args:\n",
      "    query: Mitrix team expertise\n",
      "  retrieve (call_O74WaXImexSv4jxvwAZkQVaN)\n",
      " Call ID: call_O74WaXImexSv4jxvwAZkQVaN\n",
      "  Args:\n",
      "    query: backend technologies used by Mitrix team\n",
      "=================================\u001b[1m Tool Message \u001b[0m=================================\n",
      "Name: retrieve\n",
      "\n",
      "Source: {'source': 'https://mitrix.biz/portfolio/', 'title': 'Portfolio - MITRIX Technology', 'language': 'en-US', 'start_index': 800, 'section': 'portfolio', 'pk': 456485308489531467}\n",
      "Content: The solution enabling healthcare providers to track patient histories, monitor progress, and make informed decisions. The Mitrix team developed a solution enabling the client to access critical data from any location or device, supporting continuous analytics, and workflow improvements. Artificial IntelligenceLead generation and social selling platform A simple and effective tool for lead generation and management across multiple social media communities. Media & EntertainmentOnline ticketing platform The application that simplifies ticketing operations, improving efficiency and user experience for both vendors and customers. EducationOnline learning automation platform Learn how Mitrix Technology developed a modern and intuitive learning automation platform for Academic Gateway. Curious about the project cost? fill in the formWhat our clients say Mitrix's team uses their technical expertise to drive us to the best possible solution. They’ve consistently and always completed tasks on\n",
      "\n",
      "Source: {'source': 'https://mitrix.biz', 'title': 'Individual Software Development solutions - MITRIX Technology company', 'description': 'Our team offers various software development, dedicated teams and staff augmentation solutions for your needs.', 'language': 'en-US', 'start_index': 798, 'section': 'homepage', 'pk': 456485308489531393}\n",
      "Content: us. more case studies Healthcare providers often face significant delivery problems, including supply chain disruptions and delays in obtaining medical equipment, which can impact patient care and operational efficiency. Mitrix Technology. The app monitors Slack communities and identifies messages from users looking to hire developers. Its algorithm detects and highlights these leads, allowing the team to reach out to potential clients. Mitrix Technology leveraged its experience in the booking and ticketing sector to develop a multi-user SaaS application for managing the entire ticket sales process. The Asismo project is an online platform to automate learning processes for an online school to the greatest extent possible. Students can watch a lecture online if they missed it or just want to refresh their memory. What our clients say Mitrix's team uses their technical expertise to drive us to the best possible solution. They’ve consistently and always completed tasks on time. It goes\n",
      "\n",
      "Source: {'source': 'https://mitrix.biz/portfolio/lead-generation-and-social-selling-platform/', 'title': 'Lead generation and social selling platform - MITRIX Technology', 'language': 'en-US', 'start_index': 3193, 'section': 'portfolio', 'pk': 456485308489531418}\n",
      "Content: (USA) info@mitrix.io servicesWeb developmentCloud developmentDigital transformationMobile developmentBusiness intelligenceConsultingPortfolioDedicated teamTeam AugmentationStartup Developmentblog Privacy Policy Internal Reporting Procedure © 2025 MITRIX\n",
      "==================================\u001b[1m Ai Message \u001b[0m==================================\n",
      "\n",
      "### Mitrix Team Expertise\n",
      "\n",
      "The Mitrix team specializes in various domains, providing expertise in:\n",
      "- **Custom Web Development**: Creating tailored web solutions to meet client-specific needs.\n",
      "- **Mobile Application Development**: Full-cycle development services for mobile applications across different industries.\n",
      "- **Cloud Development**: Utilizing cloud technologies to deliver scalable and secure solutions.\n",
      "- **Digital Transformation**: Helping businesses enhance efficiency and innovation through tailored strategies.\n",
      "- **Business Intelligence**: Implementing data-driven solutions for better decision-making.\n",
      "\n",
      "Overall, they focus on a combination of technical skills and domain knowledge to optimize IT operations and drive project success.\n",
      "\n",
      "### Backend Technologies Used by the Mitrix Team\n",
      "\n",
      "While the specific backend technologies used by the Mitrix team were not mentioned in the sources, companies like Mitrix typically employ popular backend technologies such as:\n",
      "- **Node.js**: JavaScript runtime for server-side development\n",
      "- **Python**: Often used with frameworks like Django or Flask for web applications\n",
      "- **Java**: Widely used in enterprise-level applications\n",
      "- **Ruby on Rails**: For rapid application development\n",
      "- **PHP**: Commonly used for building web applications\n",
      "- **Database Technologies**: MySQL, PostgreSQL, MongoDB, etc., for data storage and management\n",
      "\n",
      "If you have a specific interest in the backend technologies, I can look for more precise information related to Mitrix.\n"
     ]
    }
   ],
   "source": [
    "\n",
    "input_message = (\n",
    "    \"What is the Mitrix team expertize?\\n\\n\"\n",
    "    \"Once you get the answer, look up for bakcend technologies used by the team.\"\n",
    ")\n",
    "\n",
    "for event in agent_executor.stream(\n",
    "    {\"messages\": [{\"role\": \"user\", \"content\": input_message}]},\n",
    "    stream_mode=\"values\",\n",
    "    config=config,\n",
    "):\n",
    "    event[\"messages\"][-1].pretty_print()"
   ]
  },
  {
   "cell_type": "code",
   "execution_count": null,
   "id": "e07bef94-ca4c-4d5a-af22-29275aa3def0",
   "metadata": {},
   "outputs": [],
   "source": []
  },
  {
   "cell_type": "code",
   "execution_count": null,
   "id": "47b74c78-0b8f-43bb-bea3-3ce378e36332",
   "metadata": {},
   "outputs": [],
   "source": []
  }
 ],
 "metadata": {
  "kernelspec": {
   "display_name": "Python 3 (ipykernel)",
   "language": "python",
   "name": "python3"
  },
  "language_info": {
   "codemirror_mode": {
    "name": "ipython",
    "version": 3
   },
   "file_extension": ".py",
   "mimetype": "text/x-python",
   "name": "python",
   "nbconvert_exporter": "python",
   "pygments_lexer": "ipython3",
   "version": "3.10.12"
  }
 },
 "nbformat": 4,
 "nbformat_minor": 5
}
